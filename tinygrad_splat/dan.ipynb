{
 "cells": [
  {
   "cell_type": "code",
   "execution_count": 2,
   "metadata": {},
   "outputs": [
    {
     "name": "stdout",
     "output_type": "stream",
     "text": [
      "env: METAL_XCODE=1\n",
      "env: DISABLE_COMPILER_CACHE=1\n"
     ]
    }
   ],
   "source": [
    "%env METAL_XCODE=1\n",
    "%env DISABLE_COMPILER_CACHE=1"
   ]
  },
  {
   "cell_type": "code",
   "execution_count": 3,
   "metadata": {},
   "outputs": [],
   "source": [
    "# first let's import the necessary libraries\n",
    "import numpy as np # numpy is the main library we will use for numerical computations\n",
    "import matplotlib.pyplot as plt # matplotlib is the main library we will use for plotting\n",
    "\n",
    "# the only two libraries we will need.\n",
    "from tinygrad import Tensor, dtypes # Autograd library\n",
    "from tinygrad.nn.optim import Adam\n",
    "from tinygrad import TinyJit"
   ]
  },
  {
   "cell_type": "code",
   "execution_count": 26,
   "metadata": {},
   "outputs": [
    {
     "name": "stdout",
     "output_type": "stream",
     "text": [
      "0.004864\n"
     ]
    }
   ],
   "source": [
    "I = 1000000\n",
    "\n",
    "steps = Tensor.zeros(I)\n",
    "sum = Tensor.zeros(I)\n",
    "\n",
    "for x in range(10):\n",
    "    positions = Tensor(np.random.choice([-1, 1], size=(I)))\n",
    "    sum += positions\n",
    "\n",
    "# print(sum.numpy())\n",
    "print(sum.numpy().mean())"
   ]
  },
  {
   "cell_type": "code",
   "execution_count": 34,
   "metadata": {},
   "outputs": [
    {
     "name": "stdout",
     "output_type": "stream",
     "text": [
      "[ True  True  True  True  True  True  True  True  True  True]\n",
      "[4. 4. 4. 5. 9. 8. 8. 0. 1. 1.]\n",
      "[ True  True  True  True  True  True  True  True  True  True]\n",
      "[ 8. 13.  7. 11. 11. 16. 11.  5.  5.  6.]\n",
      "[ True  True  True  True  True  True  True  True  True  True]\n",
      "[10. 17. 13. 11. 13. 19. 13.  5. 13. 10.]\n",
      "[ True  True  True  True  True  True  True  True  True  True]\n",
      "[17. 24. 14. 17. 21. 24. 19.  5. 16. 10.]\n",
      "[ True  True  True  True  True  True  True  True  True  True]\n",
      "[21. 28. 20. 20. 28. 25. 25.  5. 21. 17.]\n",
      "[ True False  True  True False False  True  True  True  True]\n",
      "[28. 36. 21. 27. 34. 30. 29.  9. 28. 26.]\n",
      "[False False  True False False False False  True  True  True]\n",
      "[32. 37. 23. 36. 35. 39. 30. 10. 28. 26.]\n",
      "[False False False False False False False  True False  True]\n",
      "[40. 45. 32. 38. 37. 46. 32. 12. 30. 27.]\n",
      "[False False False False False False False  True False  True]\n",
      "[44. 50. 34. 40. 46. 50. 34. 21. 39. 28.]\n",
      "[False False False False False False False  True False  True]\n",
      "[48. 52. 43. 45. 51. 59. 41. 27. 43. 28.]\n"
     ]
    }
   ],
   "source": [
    "sum_times = Tensor.zeros(10)\n",
    "\n",
    "limit = 10\n",
    "\n",
    "for x in range(10):\n",
    "    times = Tensor.randint(10, low=0, high=10)\n",
    "    sum_times += times\n",
    "    print(sum_times.numpy() < 30)\n",
    "    print(sum_times.numpy())   \n"
   ]
  },
  {
   "cell_type": "code",
   "execution_count": 30,
   "metadata": {},
   "outputs": [
    {
     "ename": "IndexError",
     "evalue": "dtype=dtypes.bool on dim=0 is not supported, only int tensor indexing is supported",
     "output_type": "error",
     "traceback": [
      "\u001b[0;31m---------------------------------------------------------------------------\u001b[0m",
      "\u001b[0;31mIndexError\u001b[0m                                Traceback (most recent call last)",
      "Cell \u001b[0;32mIn[30], line 3\u001b[0m\n\u001b[1;32m      1\u001b[0m bool_index \u001b[38;5;241m=\u001b[39m Tensor([\u001b[38;5;28;01mTrue\u001b[39;00m, \u001b[38;5;28;01mFalse\u001b[39;00m, \u001b[38;5;28;01mTrue\u001b[39;00m, \u001b[38;5;28;01mFalse\u001b[39;00m, \u001b[38;5;28;01mTrue\u001b[39;00m, \u001b[38;5;28;01mFalse\u001b[39;00m, \u001b[38;5;28;01mTrue\u001b[39;00m, \u001b[38;5;28;01mFalse\u001b[39;00m, \u001b[38;5;28;01mTrue\u001b[39;00m, \u001b[38;5;28;01mFalse\u001b[39;00m])\n\u001b[0;32m----> 3\u001b[0m \u001b[38;5;28mprint\u001b[39m(\u001b[43msum_times\u001b[49m\u001b[43m[\u001b[49m\u001b[43mbool_index\u001b[49m\u001b[43m]\u001b[49m\u001b[38;5;241m.\u001b[39mnumpy())\n",
      "File \u001b[0;32m~/Documents/scsv/thesis/tinysplat/tinygrad/tinygrad/tensor.py:3491\u001b[0m, in \u001b[0;36m_metadata_wrapper.<locals>._wrapper\u001b[0;34m(*args, **kwargs)\u001b[0m\n\u001b[1;32m   3490\u001b[0m \u001b[38;5;28;01mdef\u001b[39;00m \u001b[38;5;21m_wrapper\u001b[39m(\u001b[38;5;241m*\u001b[39margs, \u001b[38;5;241m*\u001b[39m\u001b[38;5;241m*\u001b[39mkwargs):\n\u001b[0;32m-> 3491\u001b[0m   \u001b[38;5;28;01mif\u001b[39;00m _METADATA\u001b[38;5;241m.\u001b[39mget() \u001b[38;5;129;01mis\u001b[39;00m \u001b[38;5;129;01mnot\u001b[39;00m \u001b[38;5;28;01mNone\u001b[39;00m: \u001b[38;5;28;01mreturn\u001b[39;00m \u001b[43mfn\u001b[49m\u001b[43m(\u001b[49m\u001b[38;5;241;43m*\u001b[39;49m\u001b[43margs\u001b[49m\u001b[43m,\u001b[49m\u001b[43m \u001b[49m\u001b[38;5;241;43m*\u001b[39;49m\u001b[38;5;241;43m*\u001b[39;49m\u001b[43mkwargs\u001b[49m\u001b[43m)\u001b[49m\n\u001b[1;32m   3493\u001b[0m   \u001b[38;5;28;01mif\u001b[39;00m TRACEMETA \u001b[38;5;241m>\u001b[39m\u001b[38;5;241m=\u001b[39m \u001b[38;5;241m2\u001b[39m:\n\u001b[1;32m   3494\u001b[0m     caller_frame \u001b[38;5;241m=\u001b[39m sys\u001b[38;5;241m.\u001b[39m_getframe(frame \u001b[38;5;241m:=\u001b[39m \u001b[38;5;241m1\u001b[39m)\n",
      "File \u001b[0;32m~/Documents/scsv/thesis/tinysplat/tinygrad/tinygrad/tensor.py:1140\u001b[0m, in \u001b[0;36mTensor.__getitem__\u001b[0;34m(self, indices)\u001b[0m\n\u001b[1;32m   1139\u001b[0m \u001b[38;5;28;01mdef\u001b[39;00m \u001b[38;5;21m__getitem__\u001b[39m(\u001b[38;5;28mself\u001b[39m, indices) \u001b[38;5;241m-\u001b[39m\u001b[38;5;241m>\u001b[39m Tensor:\n\u001b[0;32m-> 1140\u001b[0m   \u001b[38;5;28;01mreturn\u001b[39;00m \u001b[38;5;28;43mself\u001b[39;49m\u001b[38;5;241;43m.\u001b[39;49m\u001b[43m_getitem\u001b[49m\u001b[43m(\u001b[49m\u001b[43mindices\u001b[49m\u001b[43m)\u001b[49m\n",
      "File \u001b[0;32m~/Documents/scsv/thesis/tinysplat/tinygrad/tinygrad/tensor.py:3491\u001b[0m, in \u001b[0;36m_metadata_wrapper.<locals>._wrapper\u001b[0;34m(*args, **kwargs)\u001b[0m\n\u001b[1;32m   3490\u001b[0m \u001b[38;5;28;01mdef\u001b[39;00m \u001b[38;5;21m_wrapper\u001b[39m(\u001b[38;5;241m*\u001b[39margs, \u001b[38;5;241m*\u001b[39m\u001b[38;5;241m*\u001b[39mkwargs):\n\u001b[0;32m-> 3491\u001b[0m   \u001b[38;5;28;01mif\u001b[39;00m _METADATA\u001b[38;5;241m.\u001b[39mget() \u001b[38;5;129;01mis\u001b[39;00m \u001b[38;5;129;01mnot\u001b[39;00m \u001b[38;5;28;01mNone\u001b[39;00m: \u001b[38;5;28;01mreturn\u001b[39;00m \u001b[43mfn\u001b[49m\u001b[43m(\u001b[49m\u001b[38;5;241;43m*\u001b[39;49m\u001b[43margs\u001b[49m\u001b[43m,\u001b[49m\u001b[43m \u001b[49m\u001b[38;5;241;43m*\u001b[39;49m\u001b[38;5;241;43m*\u001b[39;49m\u001b[43mkwargs\u001b[49m\u001b[43m)\u001b[49m\n\u001b[1;32m   3493\u001b[0m   \u001b[38;5;28;01mif\u001b[39;00m TRACEMETA \u001b[38;5;241m>\u001b[39m\u001b[38;5;241m=\u001b[39m \u001b[38;5;241m2\u001b[39m:\n\u001b[1;32m   3494\u001b[0m     caller_frame \u001b[38;5;241m=\u001b[39m sys\u001b[38;5;241m.\u001b[39m_getframe(frame \u001b[38;5;241m:=\u001b[39m \u001b[38;5;241m1\u001b[39m)\n",
      "File \u001b[0;32m~/Documents/scsv/thesis/tinysplat/tinygrad/tinygrad/tensor.py:1068\u001b[0m, in \u001b[0;36mTensor._getitem\u001b[0;34m(self, indices, v)\u001b[0m\n\u001b[1;32m   1066\u001b[0m \u001b[38;5;28;01mfor\u001b[39;00m dim \u001b[38;5;129;01min\u001b[39;00m type_dim[Tensor]:\n\u001b[1;32m   1067\u001b[0m   dtype \u001b[38;5;241m=\u001b[39m indices_filtered[dim]\u001b[38;5;241m.\u001b[39mdtype\n\u001b[0;32m-> 1068\u001b[0m   \u001b[38;5;28;01mif\u001b[39;00m \u001b[38;5;129;01mnot\u001b[39;00m dtypes\u001b[38;5;241m.\u001b[39mis_int(dtype): \u001b[38;5;28;01mraise\u001b[39;00m \u001b[38;5;167;01mIndexError\u001b[39;00m(\u001b[38;5;124mf\u001b[39m\u001b[38;5;124m\"\u001b[39m\u001b[38;5;132;01m{\u001b[39;00mdtype\u001b[38;5;132;01m=}\u001b[39;00m\u001b[38;5;124m on \u001b[39m\u001b[38;5;132;01m{\u001b[39;00mdim\u001b[38;5;132;01m=}\u001b[39;00m\u001b[38;5;124m is not supported, only int tensor indexing is supported\u001b[39m\u001b[38;5;124m\"\u001b[39m)\n\u001b[1;32m   1069\u001b[0m   indices_filtered[dim] \u001b[38;5;241m=\u001b[39m ((\u001b[38;5;241m0\u001b[39m, \u001b[38;5;28mself\u001b[39m\u001b[38;5;241m.\u001b[39mshape[dim]), \u001b[38;5;241m1\u001b[39m)\n\u001b[1;32m   1071\u001b[0m new_slice, strides \u001b[38;5;241m=\u001b[39m ((), ()) \u001b[38;5;28;01mif\u001b[39;00m \u001b[38;5;129;01mnot\u001b[39;00m indices_filtered \u001b[38;5;28;01melse\u001b[39;00m \u001b[38;5;28mzip\u001b[39m(\u001b[38;5;241m*\u001b[39mindices_filtered)\n",
      "\u001b[0;31mIndexError\u001b[0m: dtype=dtypes.bool on dim=0 is not supported, only int tensor indexing is supported"
     ]
    }
   ],
   "source": [
    "bool_index = Tensor([True, False, True, False, True, False, True, False, True, False])\n",
    "\n",
    "print(sum_times[bool_index].numpy())"
   ]
  },
  {
   "cell_type": "code",
   "execution_count": null,
   "metadata": {},
   "outputs": [],
   "source": []
  }
 ],
 "metadata": {
  "kernelspec": {
   "display_name": "tinysplat",
   "language": "python",
   "name": "python3"
  },
  "language_info": {
   "codemirror_mode": {
    "name": "ipython",
    "version": 3
   },
   "file_extension": ".py",
   "mimetype": "text/x-python",
   "name": "python",
   "nbconvert_exporter": "python",
   "pygments_lexer": "ipython3",
   "version": "3.12.6"
  }
 },
 "nbformat": 4,
 "nbformat_minor": 2
}
