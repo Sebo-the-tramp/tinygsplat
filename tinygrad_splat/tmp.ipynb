{
 "cells": [
  {
   "cell_type": "code",
   "execution_count": 2,
   "metadata": {},
   "outputs": [
    {
     "name": "stdout",
     "output_type": "stream",
     "text": [
      "env: METAL_XCODE=1\n",
      "env: DISABLE_COMPILER_CACHE=1\n"
     ]
    }
   ],
   "source": [
    "%env METAL_XCODE=1\n",
    "%env DISABLE_COMPILER_CACHE=1"
   ]
  },
  {
   "cell_type": "code",
   "execution_count": 1,
   "metadata": {},
   "outputs": [],
   "source": [
    "# first let's import the necessary libraries\n",
    "import numpy as np # numpy is the main library we will use for numerical computations\n",
    "import matplotlib.pyplot as plt # matplotlib is the main library we will use for plotting\n",
    "\n",
    "# the only two libraries we will need.\n",
    "from tinygrad import Tensor, dtypes # Autograd library\n",
    "from tinygrad.nn.optim import Adam\n",
    "from tinygrad import TinyJit"
   ]
  },
  {
   "cell_type": "code",
   "execution_count": 6,
   "metadata": {},
   "outputs": [
    {
     "name": "stdout",
     "output_type": "stream",
     "text": [
      "[0. 0. 3. 4. 5.]\n"
     ]
    }
   ],
   "source": [
    "a = Tensor([1.0, 2.0, 3.0, 4.0, 5.0], requires_grad=False)\n",
    "indices = Tensor([0, 1], requires_grad=False)\n",
    "\n",
    "a[indices] = 0.0\n",
    "\n",
    "print(a.numpy())"
   ]
  },
  {
   "cell_type": "code",
   "execution_count": 24,
   "metadata": {},
   "outputs": [
    {
     "name": "stdout",
     "output_type": "stream",
     "text": [
      "True\n",
      "[-0.18435808 -0.41993088 -0.26540327  0.          0.          0.\n",
      "  0.28907037 -0.8443956  -0.1013572  -0.44408756]\n",
      "True\n"
     ]
    }
   ],
   "source": [
    "a = Tensor.randn(10, requires_grad=True)\n",
    "print(a.requires_grad)\n",
    "\n",
    "b = a\n",
    "b.requires_grad = False\n",
    "\n",
    "b[3:6] = 0.0\n",
    "print(b.numpy())\n",
    "a = b\n",
    "a.requires_grad = True\n",
    "print(a.requires_grad)"
   ]
  },
  {
   "cell_type": "code",
   "execution_count": 25,
   "metadata": {},
   "outputs": [
    {
     "name": "stdout",
     "output_type": "stream",
     "text": [
      "[-0.09217904 -0.20996544]\n"
     ]
    }
   ],
   "source": [
    "c = a[:2].div(2.0)\n",
    "\n",
    "print(c.numpy())"
   ]
  },
  {
   "cell_type": "code",
   "execution_count": null,
   "metadata": {},
   "outputs": [],
   "source": []
  }
 ],
 "metadata": {
  "kernelspec": {
   "display_name": "tinysplat",
   "language": "python",
   "name": "python3"
  },
  "language_info": {
   "codemirror_mode": {
    "name": "ipython",
    "version": 3
   },
   "file_extension": ".py",
   "mimetype": "text/x-python",
   "name": "python",
   "nbconvert_exporter": "python",
   "pygments_lexer": "ipython3",
   "version": "3.12.6"
  }
 },
 "nbformat": 4,
 "nbformat_minor": 2
}
